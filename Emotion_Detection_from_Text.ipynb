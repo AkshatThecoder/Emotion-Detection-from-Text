{
  "nbformat": 4,
  "nbformat_minor": 0,
  "metadata": {
    "colab": {
      "provenance": [],
      "gpuType": "T4",
      "authorship_tag": "ABX9TyNzWBO/8uEzL8XYRRspCqYC",
      "include_colab_link": true
    },
    "kernelspec": {
      "name": "python3",
      "display_name": "Python 3"
    },
    "language_info": {
      "name": "python"
    },
    "accelerator": "GPU"
  },
  "cells": [
    {
      "cell_type": "markdown",
      "metadata": {
        "id": "view-in-github",
        "colab_type": "text"
      },
      "source": [
        "<a href=\"https://colab.research.google.com/github/AkshatThecoder/Emotion-Detection-from-Text/blob/main/Emotion_Detection_from_Text.ipynb\" target=\"_parent\"><img src=\"https://colab.research.google.com/assets/colab-badge.svg\" alt=\"Open In Colab\"/></a>"
      ]
    },
    {
      "cell_type": "code",
      "source": [
        "#DATASET USED: https://www.kaggle.com/datasets/pashupatigupta/emotion-detection-from-text\n",
        "\n",
        "!pip install neattext scikit-learn imbalanced-learn joblib --quiet\n",
        "\n",
        "import pandas as pd\n",
        "import seaborn as sns\n",
        "import matplotlib.pyplot as plt\n",
        "import neattext.functions as nfx\n",
        "from sklearn.feature_extraction.text import TfidfVectorizer\n",
        "from sklearn.model_selection import train_test_split\n",
        "from sklearn.linear_model import LogisticRegression\n",
        "from sklearn.metrics import classification_report, confusion_matrix, accuracy_score\n",
        "from imblearn.over_sampling import SMOTE\n",
        "import joblib\n",
        "\n",
        "# Load dataset\n",
        "df = pd.read_csv(\"/content/tweet_emotions.csv\")\n",
        "\n",
        "# Drop useless column and rename\n",
        "df = df.drop(\"tweet_id\", axis=1)\n",
        "df = df.rename(columns={\"content\": \"text\", \"sentiment\": \"emotion\"})\n",
        "\n",
        "# Clean text\n",
        "def clean(text):\n",
        "    text = nfx.remove_userhandles(text)\n",
        "    text = nfx.remove_stopwords(text)\n",
        "    text = nfx.remove_special_characters(text)\n",
        "    return text.lower().strip()\n",
        "\n",
        "df[\"clean_text\"] = df[\"text\"].apply(clean)\n",
        "\n",
        "# OPTIONAL: Filter for most common emotions (top 5)\n",
        "top_emotions = df[\"emotion\"].value_counts().nlargest(5).index.tolist()\n",
        "df = df[df[\"emotion\"].isin(top_emotions)]\n",
        "\n",
        "# Vectorize\n",
        "vectorizer = TfidfVectorizer(max_features=5000, stop_words=\"english\", ngram_range=(1, 2))\n",
        "X = vectorizer.fit_transform(df[\"clean_text\"])\n",
        "y = df[\"emotion\"]\n",
        "\n",
        "# Train/test split\n",
        "X_train, X_test, y_train, y_test = train_test_split(X, y, stratify=y, test_size=0.2, random_state=42)\n",
        "\n",
        "# Balance with SMOTE\n",
        "sm = SMOTE(random_state=42)\n",
        "X_train_bal, y_train_bal = sm.fit_resample(X_train, y_train)\n",
        "\n",
        "# Train model\n",
        "model = LogisticRegression(max_iter=1000)\n",
        "model.fit(X_train_bal, y_train_bal)\n",
        "\n",
        "# Evaluate\n",
        "y_pred = model.predict(X_test)\n",
        "print(\"✅ Accuracy:\", accuracy_score(y_test, y_pred)*100)\n",
        "print(\"\\n📄 Classification Report:\\n\", classification_report(y_test, y_pred))\n",
        "\n",
        "# Save model\n",
        "joblib.dump(model, \"emotion_model.pkl\")\n",
        "joblib.dump(vectorizer, \"tfidf_vectorizer.pkl\")\n",
        "\n",
        "# Predict function\n",
        "def predict_emotion(text):\n",
        "    text = clean(text)\n",
        "    vec = vectorizer.transform([text])\n",
        "    return model.predict(vec)[0]\n",
        "\n",
        "# Sample prediction(demo)\n",
        "sample = \"I can't stop laughing, this is hilarious!\"\n",
        "print(f\"Predicted Emotion: {predict_emotion(sample)}\")\n"
      ],
      "metadata": {
        "colab": {
          "base_uri": "https://localhost:8080/"
        },
        "id": "WdXEPyMVVfKK",
        "outputId": "445ffffe-7f05-4a64-fc87-1a6d5a662b63"
      },
      "execution_count": 5,
      "outputs": [
        {
          "output_type": "stream",
          "name": "stdout",
          "text": [
            "\u001b[?25l   \u001b[90m━━━━━━━━━━━━━━━━━━━━━━━━━━━━━━━━━━━━━━━━\u001b[0m \u001b[32m0.0/114.7 kB\u001b[0m \u001b[31m?\u001b[0m eta \u001b[36m-:--:--\u001b[0m\r\u001b[2K   \u001b[90m━━━━━━━━━━━━━━━━━━━━━━━━━━━━━━━━━━━━━━━━\u001b[0m \u001b[32m114.7/114.7 kB\u001b[0m \u001b[31m4.4 MB/s\u001b[0m eta \u001b[36m0:00:00\u001b[0m\n",
            "\u001b[?25h✅ Accuracy: 40.58757783809676\n",
            "\n",
            "📄 Classification Report:\n",
            "               precision    recall  f1-score   support\n",
            "\n",
            "   happiness       0.38      0.42      0.40      1042\n",
            "        love       0.40      0.48      0.44       768\n",
            "     neutral       0.43      0.41      0.42      1728\n",
            "     sadness       0.34      0.36      0.35      1033\n",
            "       worry       0.45      0.39      0.41      1692\n",
            "\n",
            "    accuracy                           0.41      6263\n",
            "   macro avg       0.40      0.41      0.40      6263\n",
            "weighted avg       0.41      0.41      0.41      6263\n",
            "\n",
            "Predicted Emotion: happiness\n"
          ]
        }
      ]
    },
    {
      "cell_type": "code",
      "source": [],
      "metadata": {
        "id": "dqAibwnHiQoP"
      },
      "execution_count": null,
      "outputs": []
    }
  ]
}